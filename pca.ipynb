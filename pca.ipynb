{
 "cells": [
  {
   "cell_type": "code",
   "execution_count": 1,
   "id": "9be96d61-6377-42af-8ef7-544b285aa5fd",
   "metadata": {},
   "outputs": [],
   "source": [
    "import matplotlib.pyplot as plt\n",
    "import matplotlib as mpl\n",
    "import seaborn as sns\n",
    "import pandas as pd\n",
    "import numpy as np\n",
    "import warnings\n",
    "warnings.filterwarnings('ignore')\n",
    "sns.set_theme(style='whitegrid', font='monospace')"
   ]
  },
  {
   "cell_type": "code",
   "execution_count": 2,
   "id": "15605e8d-4cd9-4b6e-9c14-a29646744105",
   "metadata": {},
   "outputs": [],
   "source": [
    "df = pd.read_csv('data_wo_outliers.csv', index_col=0)"
   ]
  },
  {
   "cell_type": "code",
   "execution_count": 3,
   "id": "9788017c-f9b4-496c-94cd-011c921e52a5",
   "metadata": {},
   "outputs": [],
   "source": [
    "df.drop(columns=['name'], inplace=True)"
   ]
  },
  {
   "cell_type": "code",
   "execution_count": 4,
   "id": "93450365-0377-4ae5-a418-ab968c5cc5f6",
   "metadata": {},
   "outputs": [
    {
     "name": "stdout",
     "output_type": "stream",
     "text": [
      "<class 'pandas.core.frame.DataFrame'>\n",
      "Index: 1031 entries, 0 to 1556\n",
      "Data columns (total 26 columns):\n",
      " #   Column          Non-Null Count  Dtype  \n",
      "---  ------          --------------  -----  \n",
      " 0   wins            1031 non-null   int64  \n",
      " 1   kills           1031 non-null   int64  \n",
      " 2   kdRatio         1031 non-null   float64\n",
      " 3   killstreak      1031 non-null   int64  \n",
      " 4   level           1031 non-null   int64  \n",
      " 5   losses          1031 non-null   int64  \n",
      " 6   prestige        1031 non-null   int64  \n",
      " 7   hits            1031 non-null   int64  \n",
      " 8   timePlayed      1031 non-null   int64  \n",
      " 9   headshots       1031 non-null   int64  \n",
      " 10  averageTime     1031 non-null   float64\n",
      " 11  gamesPlayed     1031 non-null   int64  \n",
      " 12  assists         1031 non-null   int64  \n",
      " 13  misses          1031 non-null   int64  \n",
      " 14  xp              1031 non-null   int64  \n",
      " 15  scorePerMinute  1031 non-null   float64\n",
      " 16  shots           1031 non-null   int64  \n",
      " 17  deaths          1031 non-null   int64  \n",
      " 18  winRate         1031 non-null   float64\n",
      " 19  killsPerGame    1031 non-null   float64\n",
      " 20  deathsPerGame   1031 non-null   float64\n",
      " 21  assistsPerGame  1031 non-null   float64\n",
      " 22  hitRate         1031 non-null   float64\n",
      " 23  headshotRate    1031 non-null   float64\n",
      " 24  winRateAlt      1031 non-null   float64\n",
      " 25  kdRatioAlt      1031 non-null   float64\n",
      "dtypes: float64(11), int64(15)\n",
      "memory usage: 217.5 KB\n"
     ]
    }
   ],
   "source": [
    "df.info()"
   ]
  },
  {
   "cell_type": "code",
   "execution_count": 5,
   "id": "19c61ab1-7a14-4837-b385-5f33b6f5a362",
   "metadata": {},
   "outputs": [],
   "source": [
    "from sklearn.preprocessing import StandardScaler\n",
    "from sklearn.decomposition import PCA\n",
    "from sklearn.pipeline import Pipeline\n",
    "from sklearn.metrics import r2_score\n",
    "from sklearn.metrics import mean_squared_error\n",
    "from sklearn.linear_model import LinearRegression\n",
    "from sklearn.linear_model import Lasso\n",
    "from sklearn.svm import SVR\n",
    "from sklearn.neighbors import KNeighborsRegressor\n",
    "from sklearn.ensemble import RandomForestRegressor\n",
    "from sklearn.ensemble import GradientBoostingRegressor\n",
    "from sklearn.model_selection import train_test_split\n",
    "from sklearn.model_selection import GridSearchCV"
   ]
  },
  {
   "cell_type": "markdown",
   "id": "db4b5df7-c773-4cc7-9345-1e44f63a6b31",
   "metadata": {},
   "source": [
    "## Regression (w/ Principal Componenet Analysis)\n",
    "\n",
    "---\n",
    "\n",
    "> Under **`regression.ipynb`**, we have analysed the performance of the regression models using all $9$ columns. That's *nine*\n",
    "> dimensions with just slightly more than a thousand data points. The resulting matrix containing our data points is likely to be\n",
    "> sparse and could hurt the training process. We'll attempt to reduce the dimensionality to just three dimensions using a technique\n",
    "> known as **Principal Component Analysis** (PCA) and see if it improves the regression results."
   ]
  },
  {
   "cell_type": "code",
   "execution_count": 6,
   "id": "4fbab379-c853-4dd9-90f3-fc573437a223",
   "metadata": {},
   "outputs": [],
   "source": [
    "def model_evaluation(df, predictors, target, model_instance):\n",
    "    df_train, df_test = train_test_split(df, test_size=0.2)\n",
    "\n",
    "    pipeline = Pipeline([\n",
    "        ('Standardization', StandardScaler()),\n",
    "        ('PCA', PCA(n_components=3)),\n",
    "        ('Regression', model_instance),\n",
    "    ])\n",
    "    \n",
    "    model = pipeline.fit(df_train[predictors], df_train[[target]])\n",
    "\n",
    "    print('<<- Principal Component Analysis (Explained Variance) ->>\\n')\n",
    "    print(f'Component 1: {model[\"PCA\"].explained_variance_ratio_[0]*100:.2f}%')\n",
    "    print(f'Component 2: {model[\"PCA\"].explained_variance_ratio_[1]*100:.2f}%')\n",
    "    print(f'Component 3: {model[\"PCA\"].explained_variance_ratio_[2]*100:.2f}%')\n",
    "    print()\n",
    "    \n",
    "    pred_train, pred_test = model.predict(df_train[predictors]), model.predict(df_test[predictors])\n",
    "    r2_train, mse_test = r2_score(df_train[[target]], pred_train), mean_squared_error(df_test[[target]], pred_test)\n",
    "\n",
    "    print('<<- Regression Results ->>\\n')\n",
    "    print(f'r2 (Train Set)\\t{r2_train:.3f}')\n",
    "    print(f'MSE (Test Set)\\t{mse_test:.3f}')\n",
    "\n",
    "    return r2_train, mse_test"
   ]
  },
  {
   "cell_type": "code",
   "execution_count": 7,
   "id": "ce273c15-0dd9-47ba-b010-5e505ae547ad",
   "metadata": {},
   "outputs": [],
   "source": [
    "def model_evaluation_w_grid_search(df, predictors, target, model_instance, param_grid, cv):\n",
    "    df_train, df_test = train_test_split(df, test_size=0.2)\n",
    "    \n",
    "    pipeline = Pipeline([\n",
    "        ('Standardization', StandardScaler()),\n",
    "        ('PCA', PCA(n_components=3)),\n",
    "        ('Regression', model_instance),\n",
    "    ])\n",
    "    \n",
    "    model = GridSearchCV(estimator=pipeline, param_grid=param_grid, cv=cv, scoring='r2')\n",
    "    model.fit(df_train[predictors], df_train[[target]])\n",
    "\n",
    "    print('<<- Principal Component Analysis (Explained Variance) ->>\\n')\n",
    "    print(f'Component 1: {model.best_estimator_[\"PCA\"].explained_variance_ratio_[0]*100:.2f}%')\n",
    "    print(f'Component 2: {model.best_estimator_[\"PCA\"].explained_variance_ratio_[1]*100:.2f}%')\n",
    "    print(f'Component 3: {model.best_estimator_[\"PCA\"].explained_variance_ratio_[2]*100:.2f}%')\n",
    "    print()\n",
    "    \n",
    "    print('<<- Grid Search Results (Best Parameters) ->>\\n')\n",
    "    for k, v in model.best_params_.items():\n",
    "       print(f'{k[12:]:10}\\t{v}')\n",
    "    print()\n",
    "    \n",
    "    pred_train, pred_test = model.predict(df_train[predictors]), model.predict(df_test[predictors])\n",
    "    r2_train, mse_test = r2_score(df_train[[target]], pred_train), mean_squared_error(df_test[[target]], pred_test)\n",
    "\n",
    "    print('<<- Regression Results ->>\\n')\n",
    "    print(f'r2 (Train Set)\\t{r2_train:.3f}')\n",
    "    print(f'MSE (Test Set)\\t{mse_test:.3f}')\n",
    "\n",
    "    return r2_train, mse_test"
   ]
  },
  {
   "cell_type": "code",
   "execution_count": 8,
   "id": "d48f052d-fc0a-453b-8b2a-fa6cec873a51",
   "metadata": {},
   "outputs": [],
   "source": [
    "model_performance = {'kdRatioAlt': {}, 'winRateAlt': {}}"
   ]
  },
  {
   "cell_type": "markdown",
   "id": "a3b24daf-f4e0-48e1-a503-869f5b2a27d9",
   "metadata": {},
   "source": [
    "### **Target Variable**: `kdRatioAlt`"
   ]
  },
  {
   "cell_type": "code",
   "execution_count": 9,
   "id": "62199fb7-2995-407e-bc41-19d25d5023bd",
   "metadata": {},
   "outputs": [],
   "source": [
    "predictors = [\n",
    "    'level',\n",
    "    'prestige',\n",
    "    'xp', \n",
    "    'hitRate',\n",
    "    'timePlayed',\n",
    "    'averageTime',\n",
    "    'gamesPlayed',\n",
    "    'headshotRate',\n",
    "    'assistsPerGame'\n",
    "]\n",
    "target = 'kdRatioAlt'"
   ]
  },
  {
   "cell_type": "code",
   "execution_count": 10,
   "id": "20998ccc-5cbf-4f8d-b38b-533f842c74fc",
   "metadata": {},
   "outputs": [
    {
     "name": "stdout",
     "output_type": "stream",
     "text": [
      "<<- Principal Component Analysis (Explained Variance) ->>\n",
      "\n",
      "Component 1: 59.93%\n",
      "Component 2: 13.61%\n",
      "Component 3: 12.27%\n",
      "\n",
      "<<- Regression Results ->>\n",
      "\n",
      "r2 (Train Set)\t0.863\n",
      "MSE (Test Set)\t0.597\n"
     ]
    }
   ],
   "source": [
    "_, mse = model_evaluation(\n",
    "    df=df,\n",
    "    predictors=predictors,\n",
    "    target=target,\n",
    "    model_instance=LinearRegression(),\n",
    ")\n",
    "\n",
    "model_performance[target]['LinearRegression'] = mse"
   ]
  },
  {
   "cell_type": "code",
   "execution_count": 11,
   "id": "78058a69-522e-40e9-a397-b3788f78eef3",
   "metadata": {},
   "outputs": [
    {
     "name": "stdout",
     "output_type": "stream",
     "text": [
      "<<- Principal Component Analysis (Explained Variance) ->>\n",
      "\n",
      "Component 1: 60.14%\n",
      "Component 2: 13.51%\n",
      "Component 3: 12.22%\n",
      "\n",
      "<<- Grid Search Results (Best Parameters) ->>\n",
      "\n",
      "alpha     \t0.1\n",
      "max_iter  \t1000\n",
      "tol       \t0.0001\n",
      "\n",
      "<<- Regression Results ->>\n",
      "\n",
      "r2 (Train Set)\t0.851\n",
      "MSE (Test Set)\t0.521\n"
     ]
    }
   ],
   "source": [
    "param_grid = {\n",
    "    'Regression__alpha':    [0.1, 1, 10, 100],\n",
    "    'Regression__tol':      [1e-3, 1e-4, 1e-5, 1e-6],\n",
    "    'Regression__max_iter': [1_000, 10_000, 100_000]\n",
    "}\n",
    "\n",
    "_, mse = model_evaluation_w_grid_search(\n",
    "    df=df,\n",
    "    predictors=predictors,\n",
    "    target=target,\n",
    "    model_instance=Lasso(),\n",
    "    param_grid=param_grid,\n",
    "    cv=3\n",
    ")\n",
    "\n",
    "model_performance[target]['Lasso'] = mse"
   ]
  },
  {
   "cell_type": "code",
   "execution_count": 12,
   "id": "5122a680-8de3-428e-9003-142444a5f2f9",
   "metadata": {},
   "outputs": [
    {
     "name": "stdout",
     "output_type": "stream",
     "text": [
      "<<- Principal Component Analysis (Explained Variance) ->>\n",
      "\n",
      "Component 1: 60.45%\n",
      "Component 2: 13.46%\n",
      "Component 3: 12.16%\n",
      "\n",
      "<<- Grid Search Results (Best Parameters) ->>\n",
      "\n",
      "C         \t5.0\n",
      "max_iter  \t10000\n",
      "tol       \t0.001\n",
      "\n",
      "<<- Regression Results ->>\n",
      "\n",
      "r2 (Train Set)\t0.943\n",
      "MSE (Test Set)\t0.342\n"
     ]
    }
   ],
   "source": [
    "param_grid = {\n",
    "    'Regression__C':        [1.0, 2.0, 3.0, 4.0, 5.0],\n",
    "    'Regression__tol':      [1e-3, 1e-4, 1e-5],\n",
    "    'Regression__max_iter': [-1, 1_000, 10_000, 100_000]\n",
    "}\n",
    "\n",
    "_, mse = model_evaluation_w_grid_search(\n",
    "    df=df,\n",
    "    predictors=predictors,\n",
    "    target=target,\n",
    "    model_instance=SVR(),\n",
    "    param_grid=param_grid,\n",
    "    cv=3\n",
    ")\n",
    "\n",
    "model_performance[target]['SVR'] = mse"
   ]
  },
  {
   "cell_type": "code",
   "execution_count": 13,
   "id": "3d02a43c-fd41-49eb-bc0c-579337790782",
   "metadata": {},
   "outputs": [
    {
     "name": "stdout",
     "output_type": "stream",
     "text": [
      "<<- Principal Component Analysis (Explained Variance) ->>\n",
      "\n",
      "Component 1: 59.87%\n",
      "Component 2: 13.80%\n",
      "Component 3: 12.20%\n",
      "\n",
      "<<- Grid Search Results (Best Parameters) ->>\n",
      "\n",
      "leaf_size \t5\n",
      "n_neighbors\t20\n",
      "weights   \tdistance\n",
      "\n",
      "<<- Regression Results ->>\n",
      "\n",
      "r2 (Train Set)\t1.000\n",
      "MSE (Test Set)\t0.372\n"
     ]
    }
   ],
   "source": [
    "param_grid = {\n",
    "    'Regression__n_neighbors': [5, 10, 15, 20, 25],\n",
    "    'Regression__leaf_size':   [5, 15, 30, 45],\n",
    "    'Regression__weights':     ['uniform', 'distance']\n",
    "}\n",
    "\n",
    "_, mse = model_evaluation_w_grid_search(\n",
    "    df=df,\n",
    "    predictors=predictors,\n",
    "    target=target,\n",
    "    model_instance=KNeighborsRegressor(),\n",
    "    param_grid=param_grid,\n",
    "    cv=3\n",
    ")\n",
    "\n",
    "model_performance[target]['KNeighborsRegressor'] = mse"
   ]
  },
  {
   "cell_type": "code",
   "execution_count": 14,
   "id": "47a8d711-d2b6-4eb4-a03a-f1508e00594a",
   "metadata": {},
   "outputs": [
    {
     "name": "stdout",
     "output_type": "stream",
     "text": [
      "<<- Principal Component Analysis (Explained Variance) ->>\n",
      "\n",
      "Component 1: 59.89%\n",
      "Component 2: 13.75%\n",
      "Component 3: 12.09%\n",
      "\n",
      "<<- Grid Search Results (Best Parameters) ->>\n",
      "\n",
      "max_depth \t10\n",
      "max_features\tlog2\n",
      "n_estimators\t100\n",
      "\n",
      "<<- Regression Results ->>\n",
      "\n",
      "r2 (Train Set)\t0.980\n",
      "MSE (Test Set)\t0.318\n"
     ]
    }
   ],
   "source": [
    "param_grid = {\n",
    "    'Regression__n_estimators': [50, 100, 150],\n",
    "    'Regression__max_depth':    [None, 5, 10],\n",
    "    'Regression__max_features': [1, 'sqrt', 'log2']\n",
    "}\n",
    "\n",
    "_, mse = model_evaluation_w_grid_search(\n",
    "    df=df,\n",
    "    predictors=predictors,\n",
    "    target=target,\n",
    "    model_instance=RandomForestRegressor(),\n",
    "    param_grid=param_grid,\n",
    "    cv=3\n",
    ")\n",
    "\n",
    "model_performance[target]['RandomForestRegressor'] = mse"
   ]
  },
  {
   "cell_type": "code",
   "execution_count": 15,
   "id": "3976a0a1-cda2-400c-a45f-5f24225cabaa",
   "metadata": {},
   "outputs": [
    {
     "name": "stdout",
     "output_type": "stream",
     "text": [
      "<<- Principal Component Analysis (Explained Variance) ->>\n",
      "\n",
      "Component 1: 59.88%\n",
      "Component 2: 13.49%\n",
      "Component 3: 12.34%\n",
      "\n",
      "<<- Grid Search Results (Best Parameters) ->>\n",
      "\n",
      "learning_rate\t0.1\n",
      "max_depth \t5\n",
      "n_estimators\t100\n",
      "\n",
      "<<- Regression Results ->>\n",
      "\n",
      "r2 (Train Set)\t0.993\n",
      "MSE (Test Set)\t0.354\n"
     ]
    }
   ],
   "source": [
    "param_grid = {\n",
    "    'Regression__learning_rate': [0.1, 1, 10],\n",
    "    'Regression__n_estimators':  [100, 200],\n",
    "    'Regression__max_depth':     [3, 5, 7]\n",
    "}\n",
    "\n",
    "_, mse = model_evaluation_w_grid_search(\n",
    "    df=df,\n",
    "    predictors=predictors,\n",
    "    target=target,\n",
    "    model_instance=GradientBoostingRegressor(),\n",
    "    param_grid=param_grid,\n",
    "    cv=3\n",
    ")\n",
    "\n",
    "model_performance[target]['GradientBoostingRegressor'] = mse"
   ]
  },
  {
   "cell_type": "code",
   "execution_count": 16,
   "id": "d3062912-8118-4033-8515-7a8bf35aa5cf",
   "metadata": {},
   "outputs": [
    {
     "data": {
      "text/plain": [
       "(0.0, 0.7760117406813823)"
      ]
     },
     "execution_count": 16,
     "metadata": {},
     "output_type": "execute_result"
    },
    {
     "data": {
      "image/png": "[encoded data removed]",
      "text/plain": [
       "<Figure size 640x480 with 1 Axes>"
      ]
     },
     "metadata": {},
     "output_type": "display_data"
    }
   ],
   "source": [
    "pairs = sorted((v, k) for k, v in model_performance[target].items())\n",
    "result = {'Regressor': [pair[1] for pair in pairs], 'MSE (Test Set)': [pair[0] for pair in pairs]}\n",
    "ax = sns.barplot(data=pd.DataFrame(result),\n",
    "                 x='MSE (Test Set)',\n",
    "                 y='Regressor',\n",
    "                 orient='y',\n",
    "                 color='#8070ba',\n",
    "                 alpha=0.9)\n",
    "ax.bar_label(ax.containers[0], fontsize=10, padding=5, fmt='%.2f')\n",
    "ax.set_xlim(0, result['MSE (Test Set)'][-1] * 1.3)"
   ]
  },
  {
   "cell_type": "markdown",
   "id": "ef3db087-e181-40b8-a2be-72a6925e80b1",
   "metadata": {},
   "source": [
    "### **Target Variable**: `winRateAlt`"
   ]
  },
  {
   "cell_type": "code",
   "execution_count": 17,
   "id": "0a18f88f-192a-4028-9050-8c8cfe19bf40",
   "metadata": {},
   "outputs": [],
   "source": [
    "predictors = [\n",
    "    'level',\n",
    "    'prestige',\n",
    "    'xp', \n",
    "    'hitRate',\n",
    "    'timePlayed',\n",
    "    'averageTime',\n",
    "    'gamesPlayed',\n",
    "    'headshotRate',\n",
    "    'assistsPerGame'\n",
    "]\n",
    "target = 'winRateAlt'"
   ]
  },
  {
   "cell_type": "code",
   "execution_count": 18,
   "id": "53a4d1fa-c76d-47f6-b438-84e011d2b340",
   "metadata": {},
   "outputs": [
    {
     "name": "stdout",
     "output_type": "stream",
     "text": [
      "<<- Principal Component Analysis (Explained Variance) ->>\n",
      "\n",
      "Component 1: 59.41%\n",
      "Component 2: 13.73%\n",
      "Component 3: 12.39%\n",
      "\n",
      "<<- Regression Results ->>\n",
      "\n",
      "r2 (Train Set)\t0.878\n",
      "MSE (Test Set)\t0.511\n"
     ]
    }
   ],
   "source": [
    "_, mse = model_evaluation(\n",
    "    df=df,\n",
    "    predictors=predictors,\n",
    "    target=target,\n",
    "    model_instance=LinearRegression(),\n",
    ")\n",
    "\n",
    "model_performance[target]['LinearRegression'] = mse"
   ]
  },
  {
   "cell_type": "code",
   "execution_count": 19,
   "id": "078bd8a8-e208-4a94-a849-0267e27b4f3b",
   "metadata": {},
   "outputs": [
    {
     "name": "stdout",
     "output_type": "stream",
     "text": [
      "<<- Principal Component Analysis (Explained Variance) ->>\n",
      "\n",
      "Component 1: 59.79%\n",
      "Component 2: 13.44%\n",
      "Component 3: 12.24%\n",
      "\n",
      "<<- Grid Search Results (Best Parameters) ->>\n",
      "\n",
      "alpha     \t0.1\n",
      "max_iter  \t1000\n",
      "tol       \t0.001\n",
      "\n",
      "<<- Regression Results ->>\n",
      "\n",
      "r2 (Train Set)\t0.865\n",
      "MSE (Test Set)\t0.446\n"
     ]
    }
   ],
   "source": [
    "param_grid = {\n",
    "    'Regression__alpha':    [0.1, 1, 10, 100],\n",
    "    'Regression__tol':      [1e-3, 1e-4, 1e-5, 1e-6],\n",
    "    'Regression__max_iter': [1_000, 10_000, 100_000]\n",
    "}\n",
    "\n",
    "_, mse = model_evaluation_w_grid_search(\n",
    "    df=df,\n",
    "    predictors=predictors,\n",
    "    target=target,\n",
    "    model_instance=Lasso(),\n",
    "    param_grid=param_grid,\n",
    "    cv=3\n",
    ")\n",
    "\n",
    "model_performance[target]['Lasso'] = mse"
   ]
  },
  {
   "cell_type": "code",
   "execution_count": 20,
   "id": "4c4e7cdd-7875-48aa-a4c2-0442ff441736",
   "metadata": {},
   "outputs": [
    {
     "name": "stdout",
     "output_type": "stream",
     "text": [
      "<<- Principal Component Analysis (Explained Variance) ->>\n",
      "\n",
      "Component 1: 59.87%\n",
      "Component 2: 13.49%\n",
      "Component 3: 12.74%\n",
      "\n",
      "<<- Grid Search Results (Best Parameters) ->>\n",
      "\n",
      "C         \t5.0\n",
      "max_iter  \t1000\n",
      "tol       \t0.001\n",
      "\n",
      "<<- Regression Results ->>\n",
      "\n",
      "r2 (Train Set)\t0.981\n",
      "MSE (Test Set)\t0.092\n"
     ]
    }
   ],
   "source": [
    "param_grid = {\n",
    "    'Regression__C':        [1.0, 2.0, 3.0, 4.0, 5.0],\n",
    "    'Regression__tol':      [1e-3, 1e-4, 1e-5],\n",
    "    'Regression__max_iter': [-1, 1_000, 10_000, 100_000]\n",
    "}\n",
    "\n",
    "_, mse = model_evaluation_w_grid_search(\n",
    "    df=df,\n",
    "    predictors=predictors,\n",
    "    target=target,\n",
    "    model_instance=SVR(),\n",
    "    param_grid=param_grid,\n",
    "    cv=3\n",
    ")\n",
    "\n",
    "model_performance[target]['SVR'] = mse"
   ]
  },
  {
   "cell_type": "code",
   "execution_count": 21,
   "id": "404abcc0-0dbe-4313-9be2-91e8c8a40b8c",
   "metadata": {},
   "outputs": [
    {
     "name": "stdout",
     "output_type": "stream",
     "text": [
      "<<- Principal Component Analysis (Explained Variance) ->>\n",
      "\n",
      "Component 1: 60.38%\n",
      "Component 2: 13.71%\n",
      "Component 3: 12.09%\n",
      "\n",
      "<<- Grid Search Results (Best Parameters) ->>\n",
      "\n",
      "leaf_size \t5\n",
      "n_neighbors\t5\n",
      "weights   \tdistance\n",
      "\n",
      "<<- Regression Results ->>\n",
      "\n",
      "r2 (Train Set)\t1.000\n",
      "MSE (Test Set)\t0.112\n"
     ]
    }
   ],
   "source": [
    "param_grid = {\n",
    "    'Regression__n_neighbors': [5, 10, 15, 20, 25],\n",
    "    'Regression__leaf_size':   [5, 15, 30, 45],\n",
    "    'Regression__weights':     ['uniform', 'distance']\n",
    "}\n",
    "\n",
    "_, mse = model_evaluation_w_grid_search(\n",
    "    df=df,\n",
    "    predictors=predictors,\n",
    "    target=target,\n",
    "    model_instance=KNeighborsRegressor(),\n",
    "    param_grid=param_grid,\n",
    "    cv=3\n",
    ")\n",
    "\n",
    "model_performance[target]['KNeighborsRegressor'] = mse"
   ]
  },
  {
   "cell_type": "code",
   "execution_count": 22,
   "id": "fe4d23b6-891d-4748-89d4-9261e0d85b4a",
   "metadata": {},
   "outputs": [
    {
     "name": "stdout",
     "output_type": "stream",
     "text": [
      "<<- Principal Component Analysis (Explained Variance) ->>\n",
      "\n",
      "Component 1: 59.36%\n",
      "Component 2: 13.75%\n",
      "Component 3: 12.60%\n",
      "\n",
      "<<- Grid Search Results (Best Parameters) ->>\n",
      "\n",
      "max_depth \tNone\n",
      "max_features\tsqrt\n",
      "n_estimators\t50\n",
      "\n",
      "<<- Regression Results ->>\n",
      "\n",
      "r2 (Train Set)\t0.994\n",
      "MSE (Test Set)\t0.134\n"
     ]
    }
   ],
   "source": [
    "param_grid = {\n",
    "    'Regression__n_estimators': [50, 100, 150],\n",
    "    'Regression__max_depth':    [None, 5, 10],\n",
    "    'Regression__max_features': [1, 'sqrt', 'log2']\n",
    "}\n",
    "\n",
    "_, mse = model_evaluation_w_grid_search(\n",
    "    df=df,\n",
    "    predictors=predictors,\n",
    "    target=target,\n",
    "    model_instance=RandomForestRegressor(),\n",
    "    param_grid=param_grid,\n",
    "    cv=3\n",
    ")\n",
    "\n",
    "model_performance[target]['RandomForestRegressor'] = mse"
   ]
  },
  {
   "cell_type": "code",
   "execution_count": 23,
   "id": "0bf89b9f-e919-4d5d-944e-34a64afa33c9",
   "metadata": {},
   "outputs": [
    {
     "name": "stdout",
     "output_type": "stream",
     "text": [
      "<<- Principal Component Analysis (Explained Variance) ->>\n",
      "\n",
      "Component 1: 60.57%\n",
      "Component 2: 13.52%\n",
      "Component 3: 12.08%\n",
      "\n",
      "<<- Grid Search Results (Best Parameters) ->>\n",
      "\n",
      "learning_rate\t0.1\n",
      "max_depth \t5\n",
      "n_estimators\t100\n",
      "\n",
      "<<- Regression Results ->>\n",
      "\n",
      "r2 (Train Set)\t0.999\n",
      "MSE (Test Set)\t0.107\n"
     ]
    }
   ],
   "source": [
    "param_grid = {\n",
    "    'Regression__learning_rate': [0.1, 1, 10],\n",
    "    'Regression__n_estimators':  [100, 200],\n",
    "    'Regression__max_depth':     [3, 5, 7]\n",
    "}\n",
    "\n",
    "_, mse = model_evaluation_w_grid_search(\n",
    "    df=df,\n",
    "    predictors=predictors,\n",
    "    target=target,\n",
    "    model_instance=GradientBoostingRegressor(),\n",
    "    param_grid=param_grid,\n",
    "    cv=3\n",
    ")\n",
    "\n",
    "model_performance[target]['GradientBoostingRegressor'] = mse"
   ]
  },
  {
   "cell_type": "code",
   "execution_count": 24,
   "id": "c3efd5b9-40de-4926-8c3f-6306209ad2e7",
   "metadata": {},
   "outputs": [
    {
     "data": {
      "text/plain": [
       "(0.0, 0.6640982267133896)"
      ]
     },
     "execution_count": 24,
     "metadata": {},
     "output_type": "execute_result"
    },
    {
     "data": {
      "image/png": "[encoded data removed]",
      "text/plain": [
       "<Figure size 640x480 with 1 Axes>"
      ]
     },
     "metadata": {},
     "output_type": "display_data"
    }
   ],
   "source": [
    "pairs = sorted((v, k) for k, v in model_performance[target].items())\n",
    "result = {'Regressor': [pair[1] for pair in pairs], 'MSE (Test Set)': [pair[0] for pair in pairs]}\n",
    "ax = sns.barplot(data=pd.DataFrame(result),\n",
    "                 x='MSE (Test Set)',\n",
    "                 y='Regressor',\n",
    "                 orient='y',\n",
    "                 color='#ba706a',\n",
    "                 alpha=0.9)\n",
    "ax.bar_label(ax.containers[0], fontsize=10, padding=5, fmt='%.2f')\n",
    "ax.set_xlim(0, result['MSE (Test Set)'][-1] * 1.3)"
   ]
  }
 ],
 "metadata": {
  "kernelspec": {
   "display_name": "Python 3 (ipykernel)",
   "language": "python",
   "name": "python3"
  },
  "language_info": {
   "codemirror_mode": {
    "name": "ipython",
    "version": 3
   },
   "file_extension": ".py",
   "mimetype": "text/x-python",
   "name": "python",
   "nbconvert_exporter": "python",
   "pygments_lexer": "ipython3",
   "version": "3.11.8"
  }
 },
 "nbformat": 4,
 "nbformat_minor": 5
}
